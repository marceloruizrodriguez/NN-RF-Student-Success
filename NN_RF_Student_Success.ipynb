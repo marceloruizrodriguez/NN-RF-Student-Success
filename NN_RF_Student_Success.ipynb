{
  "nbformat": 4,
  "nbformat_minor": 0,
  "metadata": {
    "colab": {
      "name": "NN-RF-Student-Success.ipynb",
      "provenance": [],
      "collapsed_sections": [],
      "toc_visible": true
    },
    "kernelspec": {
      "name": "python3",
      "display_name": "Python 3"
    }
  },
  "cells": [
    {
      "cell_type": "markdown",
      "metadata": {
        "id": "Fh-lDVA7gl5r"
      },
      "source": [
        "# Classification of student success using Random Forest and Neural Networks\n",
        "\n",
        "The present work used the Open University dataset described in the following article.\n",
        "> Kuzilek, J., Hlosta, M., & Zdrahal, Z. (2017). Data Descriptor: Open University Learning Analytics dataset. Scientific Data, 4, 1–8. https://doi.org/10.1038/sdata.2017.171\n"
      ]
    },
    {
      "cell_type": "markdown",
      "metadata": {
        "id": "KyTLjUUkqrLZ"
      },
      "source": [
        "Google Drive was used to store the data set\n",
        "\n"
      ]
    },
    {
      "cell_type": "code",
      "metadata": {
        "id": "iDyfjoj_e_zC",
        "outputId": "ec9c2cb3-983a-40f4-f0a2-fc78b2490d16",
        "colab": {
          "base_uri": "https://localhost:8080/",
          "height": 54
        }
      },
      "source": [
        "from google.colab import drive\n",
        "drive.mount('/content/drive')\n",
        "path2data='/content/drive/My Drive/Python Datasets/Students Success/dataset/'"
      ],
      "execution_count": null,
      "outputs": [
        {
          "output_type": "stream",
          "text": [
            "Drive already mounted at /content/drive; to attempt to forcibly remount, call drive.mount(\"/content/drive\", force_remount=True).\n"
          ],
          "name": "stdout"
        }
      ]
    },
    {
      "cell_type": "markdown",
      "metadata": {
        "id": "JnFiTr3J5m2F"
      },
      "source": [
        "## Data Transformation"
      ]
    },
    {
      "cell_type": "markdown",
      "metadata": {
        "id": "uw3-IjASzZlV"
      },
      "source": [
        "The fields of interest were extracted in two files databaseFinal0.csv and databaseFinal1.csv, corresponding to the year 2013 and 2014 and the code module FFF."
      ]
    },
    {
      "cell_type": "code",
      "metadata": {
        "id": "_Q_Z9_T4d-gj"
      },
      "source": [
        "import pandas as pd\n",
        "import numpy as np\n",
        "pd.set_option('display.max_columns', None)\n",
        "\n",
        "assessments = pd.read_csv(path2data+'assessments.csv')\n",
        "courses = pd.read_csv(path2data+'courses.csv')\n",
        "studentAssessment = pd.read_csv(path2data+'studentAssessment.csv')\n",
        "studentInfo = pd.read_csv(path2data+'studentInfo.csv')\n",
        "studentRegistration = pd.read_csv(path2data+'studentRegistration.csv')\n",
        "studentVle = pd.read_csv(path2data+'studentVle.csv')\n",
        "vle = pd.read_csv(path2data+'vle.csv')\n",
        "\n",
        "studentVle=studentVle.drop(columns=['date'])\n",
        "code_pre=[\"2013J\",\"2014J\"]\n",
        "for count,ele in enumerate(code_pre):\n",
        "  df = pd.merge(studentAssessment,assessments,on = 'id_assessment')\n",
        "  df = df[df['code_module'] == \"FFF\"]\n",
        "  df = df[df['code_presentation'] == ele]\n",
        "\n",
        "  df2 = pd.merge(df, studentInfo,  how='left', left_on=['id_student','code_presentation','code_module'], right_on = ['id_student','code_presentation','code_module'])\n",
        "  data_top = studentVle.head() \n",
        "  dfvle = pd.merge(vle, studentVle, how='left', left_on=['id_site', 'code_presentation','code_module'], right_on = ['id_site', 'code_presentation', 'code_module'])\n",
        "\n",
        "  dfT = pd.merge(df2, dfvle, how='left', left_on=['id_student', 'code_presentation','code_module'], right_on = ['id_student', 'code_presentation', 'code_module'])\n",
        "  #dfT = dfT[['id_student','code_presentation','code_module',\"gender\",\"age_band\",\"num_of_prev_attempts\",\"disability\",\"id_assessment\",\"date\",\"weight\",\"score\",\"final_result\",\"sum_click\"]]\n",
        "\n",
        "  #Feature Selection\n",
        "  feature_list=['id_student','code_presentation','code_module',\"gender\",\"age_band\",\"num_of_prev_attempts\",\"disability\",\"id_assessment\",\"date\",\"weight\",\"score\",\"final_result\",\"sum_click\",\"region\",\"highest_education\"]\n",
        "  #Without Feature Selection\n",
        "  #feature_list=['id_student','code_presentation','code_module',\"gender\",\"age_band\",\"num_of_prev_attempts\",\"disability\",\"id_assessment\",\"date\",\"weight\",\"score\",\"final_result\",\"sum_click\"]\n",
        "  dfT = dfT[feature_list]\n",
        "\n",
        "  feature_list.remove(\"sum_click\")\n",
        "  gkk = dfT.groupby(feature_list).agg(totalClick=('sum_click', 'sum'), interacions=('sum_click', 'count'), stdDev=('sum_click', 'std'), max=('sum_click', 'max'), min=('sum_click', 'min'))\n",
        "  gkk = gkk.fillna(0)\n",
        "\n",
        "  gkk.to_csv('databaseFinal'+str(count)+'.csv')"
      ],
      "execution_count": null,
      "outputs": []
    },
    {
      "cell_type": "code",
      "metadata": {
        "id": "Vcy7ldbyfEtA"
      },
      "source": [
        "\n",
        "tagFiles=[\"train\",\"test\"]\n",
        "for count,ele in enumerate(tagFiles):\n",
        "  dataX=[]\n",
        "  label = []\n",
        "  pd.set_option('display.max_columns', None)\n",
        "  database = pd.read_csv('./databaseFinal'+str(count)+'.csv')\n",
        "  #database = pd.concat([database,pd.get_dummies(database['age_band'], prefix='age')],axis=1)\n",
        "  #database = pd.concat([database,pd.get_dummies(database['gender'], prefix='gender')],axis=1)\n",
        "  #database = pd.concat([database,pd.get_dummies(database['disability'], prefix='disability')],axis=1)\n",
        "  #database = pd.concat([database,pd.get_dummies(database['final_result'], prefix='final_result')],axis=1)\n",
        "\n",
        "  #database.drop(['age_band'],axis=1, inplace=True)\n",
        "  #database.drop(['gender'],axis=1, inplace=True)\n",
        "  #database.drop(['disability'],axis=1, inplace=True)\n",
        "  #database.drop(['final_result'],axis=1, inplace=True)\n",
        "\n",
        "  database.totalClick = database.totalClick.replace({0: (1-np.finfo(float).eps)})\n",
        "  database.interacions = database.interacions.replace({0: (1-np.finfo(float).eps)})\n",
        "  database.totalClick = np.log(database.totalClick)\n",
        "  database.interacions = np.log(database.interacions)\n",
        "\n",
        "  idStudents=database.id_student.unique()\n",
        "  X = np.array([], dtype=np.int64).reshape(0,111)\n",
        "  Y = np.array([], dtype=np.int64).reshape(0,4)\n",
        "  rowNameX=[]\n",
        "  for i in idStudents:\n",
        "      rowNameX.append(i)\n",
        "      #samplei=np.zeros((1, 111))\n",
        "      samplei=[]\n",
        "      \n",
        "      df = database[database['id_student'] == i]\n",
        "      df = df.sort_values(by=['date'])\n",
        "      weightzero = df.weight.unique()\n",
        "      vecCalificacion = np.zeros((1, 1000))\n",
        "      avgZeroWeight=0\n",
        "      if 0 in weightzero:\n",
        "          dfTemp = df[df['weight'] == 0]\n",
        "          avgZeroWeight=dfTemp[\"score\"].mean()\n",
        "      samplei.append(avgZeroWeight)\n",
        "      df = df[df.weight != 0]\n",
        "      itColVCali=0;\n",
        "      for index, row in df.iterrows():\n",
        "          val=int(row['weight']*10)\n",
        "          for j in range(val):\n",
        "              vecCalificacion[0,itColVCali]=row['score']/10\n",
        "              itColVCali=itColVCali+1\n",
        "      for j in range(100):\n",
        "          samplei.append(vecCalificacion[0,j*10])\n",
        "      samplei.append(row['totalClick'])\n",
        "      samplei.append(row['interacions'])\n",
        "      samplei.append(row['stdDev'])\n",
        "      samplei.append(row['max'])\n",
        "      samplei.append(row['min'])\n",
        "      samplei.append(row['age_band'])\n",
        "      samplei.append(row['num_of_prev_attempts'])\n",
        "      samplei.append(row['gender'])\n",
        "      samplei.append(row['disability'])\n",
        "      samplei.append(row['region'])\n",
        "      samplei.append(row['highest_education'])\n",
        "      samplei.append(row['final_result'])\n",
        "      label.append(row['final_result'])\n",
        "\n",
        "      dataX.append(samplei)\n",
        "\n",
        "  columnName=['Col'+str(i) for i in range(101)]\n",
        "  listaLabels=['totalClick','interacions','stdDev',\"max\",\"min\",'age_band','num_of_prev_attempts','gender','disability','region','highest_education',\"final_result\"]\n",
        "  columnName1=columnName+listaLabels\n",
        "  dfFinal1 = pd.DataFrame(data=dataX, columns=columnName1)\n",
        "  columnName2=['final_result']\n",
        "  dfFinal2 = pd.DataFrame(data=label, columns=columnName2)\n",
        "  \n",
        "  Multiclass_features=False\n",
        "  if Multiclass_features:\n",
        "    #Multi-class dataset\n",
        "    dfFinal1.to_csv('X'+ele+'.csv')\n",
        "    dfFinal2.to_csv('Y'+ele+'.csv')\n",
        "  else:  #Change 4 classes to 2 classes\n",
        "    dfFinal1.loc[dfFinal1['final_result'] == \"Withdrawn\", 'final_result'] = \"Fail\"\n",
        "    dfFinal1.loc[dfFinal1['final_result'] == \"Distinction\", 'final_result'] = \"Pass\"\n",
        "    dfFinal2.loc[dfFinal2['final_result'] == \"Withdrawn\", 'final_result'] = \"Fail\"\n",
        "    dfFinal2.loc[dfFinal2['final_result'] == \"Distinction\", 'final_result'] = \"Pass\"\n",
        "    #Binary-class dataset\n",
        "    dfFinal1.to_csv('X'+ele+'.csv')\n",
        "    dfFinal2.to_csv('Y'+ele+'.csv')\n"
      ],
      "execution_count": null,
      "outputs": []
    },
    {
      "cell_type": "code",
      "metadata": {
        "id": "k-lRbmJqvCIH",
        "outputId": "a22c4ab6-d425-45db-f022-7712363e54b1",
        "colab": {
          "base_uri": "https://localhost:8080/",
          "height": 195
        }
      },
      "source": [
        "!pip install h2o\n",
        "import h2o\n",
        "from h2o.estimators import H2ORandomForestEstimator"
      ],
      "execution_count": null,
      "outputs": [
        {
          "output_type": "stream",
          "text": [
            "Requirement already satisfied: h2o in /usr/local/lib/python3.6/dist-packages (3.30.0.6)\n",
            "Requirement already satisfied: future in /usr/local/lib/python3.6/dist-packages (from h2o) (0.16.0)\n",
            "Requirement already satisfied: tabulate in /usr/local/lib/python3.6/dist-packages (from h2o) (0.8.7)\n",
            "Requirement already satisfied: requests in /usr/local/lib/python3.6/dist-packages (from h2o) (2.23.0)\n",
            "Requirement already satisfied: colorama>=0.3.8 in /usr/local/lib/python3.6/dist-packages (from h2o) (0.4.3)\n",
            "Requirement already satisfied: urllib3!=1.25.0,!=1.25.1,<1.26,>=1.21.1 in /usr/local/lib/python3.6/dist-packages (from requests->h2o) (1.24.3)\n",
            "Requirement already satisfied: certifi>=2017.4.17 in /usr/local/lib/python3.6/dist-packages (from requests->h2o) (2020.6.20)\n",
            "Requirement already satisfied: chardet<4,>=3.0.2 in /usr/local/lib/python3.6/dist-packages (from requests->h2o) (3.0.4)\n",
            "Requirement already satisfied: idna<3,>=2.5 in /usr/local/lib/python3.6/dist-packages (from requests->h2o) (2.9)\n"
          ],
          "name": "stdout"
        }
      ]
    },
    {
      "cell_type": "code",
      "metadata": {
        "id": "p58Ewxdh2tdJ",
        "outputId": "96090afe-e662-4ae4-8940-c57f2c7588dd",
        "colab": {
          "base_uri": "https://localhost:8080/",
          "height": 424
        }
      },
      "source": [
        "import h2o\n",
        "h2o.init()\n",
        "#4 classes\n",
        "df = h2o.import_file(\"Xtrain.csv\")\n",
        "df2 = h2o.import_file(\"Xtest.csv\")\n",
        "\n"
      ],
      "execution_count": null,
      "outputs": [
        {
          "output_type": "stream",
          "text": [
            "Checking whether there is an H2O instance running at http://localhost:54321 . connected.\n"
          ],
          "name": "stdout"
        },
        {
          "output_type": "display_data",
          "data": {
            "text/html": [
              "<div style=\"overflow:auto\"><table style=\"width:50%\"><tr><td>H2O_cluster_uptime:</td>\n",
              "<td>1 hour 0 mins</td></tr>\n",
              "<tr><td>H2O_cluster_timezone:</td>\n",
              "<td>Etc/UTC</td></tr>\n",
              "<tr><td>H2O_data_parsing_timezone:</td>\n",
              "<td>UTC</td></tr>\n",
              "<tr><td>H2O_cluster_version:</td>\n",
              "<td>3.30.0.6</td></tr>\n",
              "<tr><td>H2O_cluster_version_age:</td>\n",
              "<td>10 days </td></tr>\n",
              "<tr><td>H2O_cluster_name:</td>\n",
              "<td>H2O_from_python_unknownUser_53pqcw</td></tr>\n",
              "<tr><td>H2O_cluster_total_nodes:</td>\n",
              "<td>1</td></tr>\n",
              "<tr><td>H2O_cluster_free_memory:</td>\n",
              "<td>3.112 Gb</td></tr>\n",
              "<tr><td>H2O_cluster_total_cores:</td>\n",
              "<td>2</td></tr>\n",
              "<tr><td>H2O_cluster_allowed_cores:</td>\n",
              "<td>2</td></tr>\n",
              "<tr><td>H2O_cluster_status:</td>\n",
              "<td>locked, healthy</td></tr>\n",
              "<tr><td>H2O_connection_url:</td>\n",
              "<td>http://localhost:54321</td></tr>\n",
              "<tr><td>H2O_connection_proxy:</td>\n",
              "<td>{\"http\": null, \"https\": null}</td></tr>\n",
              "<tr><td>H2O_internal_security:</td>\n",
              "<td>False</td></tr>\n",
              "<tr><td>H2O_API_Extensions:</td>\n",
              "<td>Amazon S3, XGBoost, Algos, AutoML, Core V3, TargetEncoder, Core V4</td></tr>\n",
              "<tr><td>Python_version:</td>\n",
              "<td>3.6.9 final</td></tr></table></div>"
            ],
            "text/plain": [
              "--------------------------  ------------------------------------------------------------------\n",
              "H2O_cluster_uptime:         1 hour 0 mins\n",
              "H2O_cluster_timezone:       Etc/UTC\n",
              "H2O_data_parsing_timezone:  UTC\n",
              "H2O_cluster_version:        3.30.0.6\n",
              "H2O_cluster_version_age:    10 days\n",
              "H2O_cluster_name:           H2O_from_python_unknownUser_53pqcw\n",
              "H2O_cluster_total_nodes:    1\n",
              "H2O_cluster_free_memory:    3.112 Gb\n",
              "H2O_cluster_total_cores:    2\n",
              "H2O_cluster_allowed_cores:  2\n",
              "H2O_cluster_status:         locked, healthy\n",
              "H2O_connection_url:         http://localhost:54321\n",
              "H2O_connection_proxy:       {\"http\": null, \"https\": null}\n",
              "H2O_internal_security:      False\n",
              "H2O_API_Extensions:         Amazon S3, XGBoost, Algos, AutoML, Core V3, TargetEncoder, Core V4\n",
              "Python_version:             3.6.9 final\n",
              "--------------------------  ------------------------------------------------------------------"
            ]
          },
          "metadata": {
            "tags": []
          }
        },
        {
          "output_type": "stream",
          "text": [
            "Parse progress: |█████████████████████████████████████████████████████████| 100%\n",
            "Parse progress: |█████████████████████████████████████████████████████████| 100%\n"
          ],
          "name": "stdout"
        }
      ]
    },
    {
      "cell_type": "markdown",
      "metadata": {
        "id": "DgR1qvXvBGrU"
      },
      "source": [
        "Random Forest for the Multi-class Classification"
      ]
    },
    {
      "cell_type": "code",
      "metadata": {
        "id": "tZSIaV5k4FcV",
        "outputId": "b0877f5c-c526-47df-e28c-e8e241c4a7d0",
        "colab": {
          "base_uri": "https://localhost:8080/",
          "height": 1000
        }
      },
      "source": [
        "training_columns =columnName1.copy()\n",
        "training_columns.remove(\"final_result\")\n",
        "response_column = \"final_result\"\n",
        "\n",
        "model = H2ORandomForestEstimator(ntrees=50, max_depth=100, nfolds=10)\n",
        "\n",
        "model.train(x=training_columns, y=response_column, training_frame=df)\n",
        "performance = model.model_performance(test_data=df2)\n",
        "\n",
        "print(performance)"
      ],
      "execution_count": null,
      "outputs": [
        {
          "output_type": "stream",
          "text": [
            "drf Model Build progress: |███████████████████████████████████████████████| 100%\n",
            "\n",
            "ModelMetricsBinomial: drf\n",
            "** Reported on test data. **\n",
            "\n",
            "MSE: 0.0622868255372227\n",
            "RMSE: 0.24957328690631675\n",
            "LogLoss: 0.3666688131338029\n",
            "Mean Per-Class Error: 0.09167154836847957\n",
            "AUC: 0.967946106011986\n",
            "AUCPR: 0.9717696660248805\n",
            "Gini: 0.9358922120239721\n",
            "\n",
            "Confusion Matrix (Act/Pred) for max f1 @ threshold = 0.49: \n"
          ],
          "name": "stdout"
        },
        {
          "output_type": "display_data",
          "data": {
            "text/html": [
              "<div>\n",
              "<style scoped>\n",
              "    .dataframe tbody tr th:only-of-type {\n",
              "        vertical-align: middle;\n",
              "    }\n",
              "\n",
              "    .dataframe tbody tr th {\n",
              "        vertical-align: top;\n",
              "    }\n",
              "\n",
              "    .dataframe thead th {\n",
              "        text-align: right;\n",
              "    }\n",
              "</style>\n",
              "<table border=\"1\" class=\"dataframe\">\n",
              "  <thead>\n",
              "    <tr style=\"text-align: right;\">\n",
              "      <th></th>\n",
              "      <th></th>\n",
              "      <th>Fail</th>\n",
              "      <th>Pass</th>\n",
              "      <th>Error</th>\n",
              "      <th>Rate</th>\n",
              "    </tr>\n",
              "  </thead>\n",
              "  <tbody>\n",
              "    <tr>\n",
              "      <th>0</th>\n",
              "      <td>Fail</td>\n",
              "      <td>621.0</td>\n",
              "      <td>98.0</td>\n",
              "      <td>0.1363</td>\n",
              "      <td>(98.0/719.0)</td>\n",
              "    </tr>\n",
              "    <tr>\n",
              "      <th>1</th>\n",
              "      <td>Pass</td>\n",
              "      <td>61.0</td>\n",
              "      <td>1062.0</td>\n",
              "      <td>0.0543</td>\n",
              "      <td>(61.0/1123.0)</td>\n",
              "    </tr>\n",
              "    <tr>\n",
              "      <th>2</th>\n",
              "      <td>Total</td>\n",
              "      <td>682.0</td>\n",
              "      <td>1160.0</td>\n",
              "      <td>0.0863</td>\n",
              "      <td>(159.0/1842.0)</td>\n",
              "    </tr>\n",
              "  </tbody>\n",
              "</table>\n",
              "</div>"
            ],
            "text/plain": [
              "           Fail    Pass   Error             Rate\n",
              "0   Fail  621.0    98.0  0.1363     (98.0/719.0)\n",
              "1   Pass   61.0  1062.0  0.0543    (61.0/1123.0)\n",
              "2  Total  682.0  1160.0  0.0863   (159.0/1842.0)"
            ]
          },
          "metadata": {
            "tags": []
          }
        },
        {
          "output_type": "stream",
          "text": [
            "\n",
            "Maximum Metrics: Maximum metrics at their respective thresholds\n"
          ],
          "name": "stdout"
        },
        {
          "output_type": "display_data",
          "data": {
            "text/html": [
              "<div>\n",
              "<style scoped>\n",
              "    .dataframe tbody tr th:only-of-type {\n",
              "        vertical-align: middle;\n",
              "    }\n",
              "\n",
              "    .dataframe tbody tr th {\n",
              "        vertical-align: top;\n",
              "    }\n",
              "\n",
              "    .dataframe thead th {\n",
              "        text-align: right;\n",
              "    }\n",
              "</style>\n",
              "<table border=\"1\" class=\"dataframe\">\n",
              "  <thead>\n",
              "    <tr style=\"text-align: right;\">\n",
              "      <th></th>\n",
              "      <th>metric</th>\n",
              "      <th>threshold</th>\n",
              "      <th>value</th>\n",
              "      <th>idx</th>\n",
              "    </tr>\n",
              "  </thead>\n",
              "  <tbody>\n",
              "    <tr>\n",
              "      <th>0</th>\n",
              "      <td>max f1</td>\n",
              "      <td>0.490000</td>\n",
              "      <td>0.930355</td>\n",
              "      <td>127.0</td>\n",
              "    </tr>\n",
              "    <tr>\n",
              "      <th>1</th>\n",
              "      <td>max f2</td>\n",
              "      <td>0.160000</td>\n",
              "      <td>0.965624</td>\n",
              "      <td>169.0</td>\n",
              "    </tr>\n",
              "    <tr>\n",
              "      <th>2</th>\n",
              "      <td>max f0point5</td>\n",
              "      <td>0.750000</td>\n",
              "      <td>0.934770</td>\n",
              "      <td>83.0</td>\n",
              "    </tr>\n",
              "    <tr>\n",
              "      <th>3</th>\n",
              "      <td>max accuracy</td>\n",
              "      <td>0.497143</td>\n",
              "      <td>0.913681</td>\n",
              "      <td>125.0</td>\n",
              "    </tr>\n",
              "    <tr>\n",
              "      <th>4</th>\n",
              "      <td>max precision</td>\n",
              "      <td>1.000000</td>\n",
              "      <td>0.984152</td>\n",
              "      <td>0.0</td>\n",
              "    </tr>\n",
              "    <tr>\n",
              "      <th>5</th>\n",
              "      <td>max recall</td>\n",
              "      <td>0.020000</td>\n",
              "      <td>1.000000</td>\n",
              "      <td>183.0</td>\n",
              "    </tr>\n",
              "    <tr>\n",
              "      <th>6</th>\n",
              "      <td>max specificity</td>\n",
              "      <td>1.000000</td>\n",
              "      <td>0.986092</td>\n",
              "      <td>0.0</td>\n",
              "    </tr>\n",
              "    <tr>\n",
              "      <th>7</th>\n",
              "      <td>max absolute_mcc</td>\n",
              "      <td>0.497143</td>\n",
              "      <td>0.817699</td>\n",
              "      <td>125.0</td>\n",
              "    </tr>\n",
              "    <tr>\n",
              "      <th>8</th>\n",
              "      <td>max min_per_class_accuracy</td>\n",
              "      <td>0.640000</td>\n",
              "      <td>0.906815</td>\n",
              "      <td>104.0</td>\n",
              "    </tr>\n",
              "    <tr>\n",
              "      <th>9</th>\n",
              "      <td>max mean_per_class_accuracy</td>\n",
              "      <td>0.610000</td>\n",
              "      <td>0.908328</td>\n",
              "      <td>108.0</td>\n",
              "    </tr>\n",
              "    <tr>\n",
              "      <th>10</th>\n",
              "      <td>max tns</td>\n",
              "      <td>1.000000</td>\n",
              "      <td>709.000000</td>\n",
              "      <td>0.0</td>\n",
              "    </tr>\n",
              "    <tr>\n",
              "      <th>11</th>\n",
              "      <td>max fns</td>\n",
              "      <td>1.000000</td>\n",
              "      <td>502.000000</td>\n",
              "      <td>0.0</td>\n",
              "    </tr>\n",
              "    <tr>\n",
              "      <th>12</th>\n",
              "      <td>max fps</td>\n",
              "      <td>0.000000</td>\n",
              "      <td>719.000000</td>\n",
              "      <td>185.0</td>\n",
              "    </tr>\n",
              "    <tr>\n",
              "      <th>13</th>\n",
              "      <td>max tps</td>\n",
              "      <td>0.020000</td>\n",
              "      <td>1123.000000</td>\n",
              "      <td>183.0</td>\n",
              "    </tr>\n",
              "    <tr>\n",
              "      <th>14</th>\n",
              "      <td>max tnr</td>\n",
              "      <td>1.000000</td>\n",
              "      <td>0.986092</td>\n",
              "      <td>0.0</td>\n",
              "    </tr>\n",
              "    <tr>\n",
              "      <th>15</th>\n",
              "      <td>max fnr</td>\n",
              "      <td>1.000000</td>\n",
              "      <td>0.447017</td>\n",
              "      <td>0.0</td>\n",
              "    </tr>\n",
              "    <tr>\n",
              "      <th>16</th>\n",
              "      <td>max fpr</td>\n",
              "      <td>0.000000</td>\n",
              "      <td>1.000000</td>\n",
              "      <td>185.0</td>\n",
              "    </tr>\n",
              "    <tr>\n",
              "      <th>17</th>\n",
              "      <td>max tpr</td>\n",
              "      <td>0.020000</td>\n",
              "      <td>1.000000</td>\n",
              "      <td>183.0</td>\n",
              "    </tr>\n",
              "  </tbody>\n",
              "</table>\n",
              "</div>"
            ],
            "text/plain": [
              "                         metric  threshold        value    idx\n",
              "0                        max f1   0.490000     0.930355  127.0\n",
              "1                        max f2   0.160000     0.965624  169.0\n",
              "2                  max f0point5   0.750000     0.934770   83.0\n",
              "3                  max accuracy   0.497143     0.913681  125.0\n",
              "4                 max precision   1.000000     0.984152    0.0\n",
              "5                    max recall   0.020000     1.000000  183.0\n",
              "6               max specificity   1.000000     0.986092    0.0\n",
              "7              max absolute_mcc   0.497143     0.817699  125.0\n",
              "8    max min_per_class_accuracy   0.640000     0.906815  104.0\n",
              "9   max mean_per_class_accuracy   0.610000     0.908328  108.0\n",
              "10                      max tns   1.000000   709.000000    0.0\n",
              "11                      max fns   1.000000   502.000000    0.0\n",
              "12                      max fps   0.000000   719.000000  185.0\n",
              "13                      max tps   0.020000  1123.000000  183.0\n",
              "14                      max tnr   1.000000     0.986092    0.0\n",
              "15                      max fnr   1.000000     0.447017    0.0\n",
              "16                      max fpr   0.000000     1.000000  185.0\n",
              "17                      max tpr   0.020000     1.000000  183.0"
            ]
          },
          "metadata": {
            "tags": []
          }
        },
        {
          "output_type": "stream",
          "text": [
            "\n",
            "Gains/Lift Table: Avg response rate: 60.97 %, avg score: 60.78 %\n"
          ],
          "name": "stdout"
        },
        {
          "output_type": "display_data",
          "data": {
            "text/html": [
              "<div>\n",
              "<style scoped>\n",
              "    .dataframe tbody tr th:only-of-type {\n",
              "        vertical-align: middle;\n",
              "    }\n",
              "\n",
              "    .dataframe tbody tr th {\n",
              "        vertical-align: top;\n",
              "    }\n",
              "\n",
              "    .dataframe thead th {\n",
              "        text-align: right;\n",
              "    }\n",
              "</style>\n",
              "<table border=\"1\" class=\"dataframe\">\n",
              "  <thead>\n",
              "    <tr style=\"text-align: right;\">\n",
              "      <th></th>\n",
              "      <th>group</th>\n",
              "      <th>cumulative_data_fraction</th>\n",
              "      <th>lower_threshold</th>\n",
              "      <th>lift</th>\n",
              "      <th>cumulative_lift</th>\n",
              "      <th>response_rate</th>\n",
              "      <th>score</th>\n",
              "      <th>cumulative_response_rate</th>\n",
              "      <th>cumulative_score</th>\n",
              "      <th>capture_rate</th>\n",
              "      <th>cumulative_capture_rate</th>\n",
              "      <th>gain</th>\n",
              "      <th>cumulative_gain</th>\n",
              "      <th>kolmogorov_smirnov</th>\n",
              "    </tr>\n",
              "  </thead>\n",
              "  <tbody>\n",
              "    <tr>\n",
              "      <th>0</th>\n",
              "      <td>1</td>\n",
              "      <td>0.342562</td>\n",
              "      <td>1.00</td>\n",
              "      <td>1.614255</td>\n",
              "      <td>1.614255</td>\n",
              "      <td>0.984152</td>\n",
              "      <td>1.000000</td>\n",
              "      <td>0.984152</td>\n",
              "      <td>1.000000</td>\n",
              "      <td>0.552983</td>\n",
              "      <td>0.552983</td>\n",
              "      <td>61.425489</td>\n",
              "      <td>61.425489</td>\n",
              "      <td>0.539075</td>\n",
              "    </tr>\n",
              "    <tr>\n",
              "      <th>1</th>\n",
              "      <td>2</td>\n",
              "      <td>0.409881</td>\n",
              "      <td>0.96</td>\n",
              "      <td>1.547655</td>\n",
              "      <td>1.603317</td>\n",
              "      <td>0.943548</td>\n",
              "      <td>0.974566</td>\n",
              "      <td>0.977483</td>\n",
              "      <td>0.995823</td>\n",
              "      <td>0.104185</td>\n",
              "      <td>0.657168</td>\n",
              "      <td>54.765461</td>\n",
              "      <td>60.331657</td>\n",
              "      <td>0.633524</td>\n",
              "    </tr>\n",
              "    <tr>\n",
              "      <th>2</th>\n",
              "      <td>3</td>\n",
              "      <td>0.501629</td>\n",
              "      <td>0.86</td>\n",
              "      <td>1.533488</td>\n",
              "      <td>1.590545</td>\n",
              "      <td>0.934911</td>\n",
              "      <td>0.906849</td>\n",
              "      <td>0.969697</td>\n",
              "      <td>0.979549</td>\n",
              "      <td>0.140695</td>\n",
              "      <td>0.797863</td>\n",
              "      <td>53.348754</td>\n",
              "      <td>59.054481</td>\n",
              "      <td>0.758920</td>\n",
              "    </tr>\n",
              "    <tr>\n",
              "      <th>3</th>\n",
              "      <td>4</td>\n",
              "      <td>0.602606</td>\n",
              "      <td>0.60</td>\n",
              "      <td>1.199322</td>\n",
              "      <td>1.524989</td>\n",
              "      <td>0.731183</td>\n",
              "      <td>0.731105</td>\n",
              "      <td>0.929730</td>\n",
              "      <td>0.937918</td>\n",
              "      <td>0.121104</td>\n",
              "      <td>0.918967</td>\n",
              "      <td>19.932209</td>\n",
              "      <td>52.498857</td>\n",
              "      <td>0.810483</td>\n",
              "    </tr>\n",
              "    <tr>\n",
              "      <th>4</th>\n",
              "      <td>5</td>\n",
              "      <td>0.700326</td>\n",
              "      <td>0.18</td>\n",
              "      <td>0.747225</td>\n",
              "      <td>1.416463</td>\n",
              "      <td>0.455556</td>\n",
              "      <td>0.405262</td>\n",
              "      <td>0.863566</td>\n",
              "      <td>0.863594</td>\n",
              "      <td>0.073019</td>\n",
              "      <td>0.991986</td>\n",
              "      <td>-25.277530</td>\n",
              "      <td>41.646338</td>\n",
              "      <td>0.747201</td>\n",
              "    </tr>\n",
              "    <tr>\n",
              "      <th>5</th>\n",
              "      <td>6</td>\n",
              "      <td>1.000000</td>\n",
              "      <td>0.00</td>\n",
              "      <td>0.026743</td>\n",
              "      <td>1.000000</td>\n",
              "      <td>0.016304</td>\n",
              "      <td>0.010184</td>\n",
              "      <td>0.609663</td>\n",
              "      <td>0.607849</td>\n",
              "      <td>0.008014</td>\n",
              "      <td>1.000000</td>\n",
              "      <td>-97.325680</td>\n",
              "      <td>0.000000</td>\n",
              "      <td>0.000000</td>\n",
              "    </tr>\n",
              "  </tbody>\n",
              "</table>\n",
              "</div>"
            ],
            "text/plain": [
              "   group  cumulative_data_fraction  lower_threshold      lift  \\\n",
              "0      1                  0.342562             1.00  1.614255   \n",
              "1      2                  0.409881             0.96  1.547655   \n",
              "2      3                  0.501629             0.86  1.533488   \n",
              "3      4                  0.602606             0.60  1.199322   \n",
              "4      5                  0.700326             0.18  0.747225   \n",
              "5      6                  1.000000             0.00  0.026743   \n",
              "\n",
              "   cumulative_lift  response_rate     score  cumulative_response_rate  \\\n",
              "0         1.614255       0.984152  1.000000                  0.984152   \n",
              "1         1.603317       0.943548  0.974566                  0.977483   \n",
              "2         1.590545       0.934911  0.906849                  0.969697   \n",
              "3         1.524989       0.731183  0.731105                  0.929730   \n",
              "4         1.416463       0.455556  0.405262                  0.863566   \n",
              "5         1.000000       0.016304  0.010184                  0.609663   \n",
              "\n",
              "   cumulative_score  capture_rate  cumulative_capture_rate       gain  \\\n",
              "0          1.000000      0.552983                 0.552983  61.425489   \n",
              "1          0.995823      0.104185                 0.657168  54.765461   \n",
              "2          0.979549      0.140695                 0.797863  53.348754   \n",
              "3          0.937918      0.121104                 0.918967  19.932209   \n",
              "4          0.863594      0.073019                 0.991986 -25.277530   \n",
              "5          0.607849      0.008014                 1.000000 -97.325680   \n",
              "\n",
              "   cumulative_gain  kolmogorov_smirnov  \n",
              "0        61.425489            0.539075  \n",
              "1        60.331657            0.633524  \n",
              "2        59.054481            0.758920  \n",
              "3        52.498857            0.810483  \n",
              "4        41.646338            0.747201  \n",
              "5         0.000000            0.000000  "
            ]
          },
          "metadata": {
            "tags": []
          }
        },
        {
          "output_type": "stream",
          "text": [
            "\n",
            "\n"
          ],
          "name": "stdout"
        }
      ]
    },
    {
      "cell_type": "code",
      "metadata": {
        "id": "wufcZ9TeBkaf"
      },
      "source": [
        "#model_path = h2o.save_model(model=model, path=\"./mymodel\", force=True)"
      ],
      "execution_count": null,
      "outputs": []
    },
    {
      "cell_type": "markdown",
      "metadata": {
        "id": "lcyEO1UrQQAw"
      },
      "source": [
        "## Feature Selection"
      ]
    },
    {
      "cell_type": "code",
      "metadata": {
        "id": "_kV-7CyL-Hnt"
      },
      "source": [
        "featureImportance=model.varimp(True) # variable, relative importance, scaled importance, percentage\n",
        "#pd.set_option(\"display.max_rows\", None, \"display.max_columns\", None)\n",
        "\n",
        "featureImportance.to_csv('featureImportanceBin2.csv')\n",
        "\n"
      ],
      "execution_count": null,
      "outputs": []
    },
    {
      "cell_type": "code",
      "metadata": {
        "id": "FtrKituFaDSb",
        "outputId": "01c41c3e-2624-40cc-96f2-dd20fb486103",
        "colab": {
          "base_uri": "https://localhost:8080/",
          "height": 72
        }
      },
      "source": [
        "dfFeat=featureImportance[featureImportance['scaled_importance']>.05]\n",
        "dfFeatListCat=list(dfFeat[\"variable\"])\n",
        "dfFeatList=columnName.copy()\n",
        "for i in dfFeatListCat:\n",
        "  if i not in dfFeatList:\n",
        "    dfFeatList.append(i)\n",
        "print(dfFeatList)\n",
        "print(len(dfFeatList))"
      ],
      "execution_count": null,
      "outputs": [
        {
          "output_type": "stream",
          "text": [
            "['Col0', 'Col1', 'Col2', 'Col3', 'Col4', 'Col5', 'Col6', 'Col7', 'Col8', 'Col9', 'Col10', 'Col11', 'Col12', 'Col13', 'Col14', 'Col15', 'Col16', 'Col17', 'Col18', 'Col19', 'Col20', 'Col21', 'Col22', 'Col23', 'Col24', 'Col25', 'Col26', 'Col27', 'Col28', 'Col29', 'Col30', 'Col31', 'Col32', 'Col33', 'Col34', 'Col35', 'Col36', 'Col37', 'Col38', 'Col39', 'Col40', 'Col41', 'Col42', 'Col43', 'Col44', 'Col45', 'Col46', 'Col47', 'Col48', 'Col49', 'Col50', 'Col51', 'Col52', 'Col53', 'Col54', 'Col55', 'Col56', 'Col57', 'Col58', 'Col59', 'Col60', 'Col61', 'Col62', 'Col63', 'Col64', 'Col65', 'Col66', 'Col67', 'Col68', 'Col69', 'Col70', 'Col71', 'Col72', 'Col73', 'Col74', 'Col75', 'Col76', 'Col77', 'Col78', 'Col79', 'Col80', 'Col81', 'Col82', 'Col83', 'Col84', 'Col85', 'Col86', 'Col87', 'Col88', 'Col89', 'Col90', 'Col91', 'Col92', 'Col93', 'Col94', 'Col95', 'Col96', 'Col97', 'Col98', 'Col99', 'Col100', 'region', 'totalClick', 'stdDev']\n",
            "104\n"
          ],
          "name": "stdout"
        }
      ]
    },
    {
      "cell_type": "code",
      "metadata": {
        "id": "fTdDwCBjrbSf"
      },
      "source": [
        "dataTrainFilter=df[dfFeatList].as_data_frame(use_pandas=True, header=True)\n",
        "dataTestFilter=df2[dfFeatList].as_data_frame(use_pandas=True, header=True)\n",
        "\n",
        "listOfCategorical=dataTrainFilter.select_dtypes(exclude=['int', 'float']).columns.tolist()"
      ],
      "execution_count": null,
      "outputs": []
    },
    {
      "cell_type": "code",
      "metadata": {
        "id": "vHiHflfo7V4n"
      },
      "source": [
        "labelTrainFilter=df[\"final_result\"].as_data_frame(use_pandas=True, header=True)\n",
        "labelTestFilter=df2[\"final_result\"].as_data_frame(use_pandas=True, header=True)"
      ],
      "execution_count": null,
      "outputs": []
    },
    {
      "cell_type": "code",
      "metadata": {
        "id": "K4EHldgT5baA"
      },
      "source": [
        "for l in listOfCategorical:\n",
        "  dataTrainFilter = pd.concat([dataTrainFilter,pd.get_dummies(dataTrainFilter[l], prefix=l)],axis=1)\n",
        "  dataTrainFilter.drop([l],axis=1, inplace=True)\n",
        "  dataTestFilter = pd.concat([dataTestFilter,pd.get_dummies(dataTestFilter[l], prefix=l)],axis=1)\n",
        "  dataTestFilter.drop([l],axis=1, inplace=True)\n",
        "labelTrainFilter = pd.concat([labelTrainFilter,pd.get_dummies(labelTrainFilter[\"final_result\"], prefix=\"final_result\")],axis=1)\n",
        "labelTrainFilter.drop([\"final_result\"],axis=1, inplace=True)\n",
        "labelTestFilter = pd.concat([labelTestFilter,pd.get_dummies(labelTestFilter[\"final_result\"], prefix=\"final_result\")],axis=1)\n",
        "labelTestFilter.drop([\"final_result\"],axis=1, inplace=True)"
      ],
      "execution_count": null,
      "outputs": []
    },
    {
      "cell_type": "code",
      "metadata": {
        "id": "G0xWg2qATNxf"
      },
      "source": [
        "#For save the Model\n",
        "#saved_model = h2o.load_model(\"./mymodel/DRF_model_python_1594070609089_1\")\n",
        "#performance = saved_model.model_performance(test_data=df2)\n",
        "#print(performance)"
      ],
      "execution_count": null,
      "outputs": []
    },
    {
      "cell_type": "markdown",
      "metadata": {
        "id": "BPMX-wAs5bt2"
      },
      "source": [
        "## Classification"
      ]
    },
    {
      "cell_type": "markdown",
      "metadata": {
        "id": "P6YXoYTOnJcJ"
      },
      "source": [
        "The model input is encoded in a 113-element feature vector that includes the following information:\n",
        "\n",
        "\n",
        "\n",
        "*   Assignment performance\n",
        "*   Interaction with the VLE\n",
        "*   Student data\n"
      ]
    },
    {
      "cell_type": "markdown",
      "metadata": {
        "id": "f2eeMyALnuk0"
      },
      "source": [
        "The architecture of the full-dense Multilayer Perceptron model is given by 106/104 input neurons, 250,250/200 hidden layer neurons, and 4/1 output layer neurons"
      ]
    },
    {
      "cell_type": "code",
      "metadata": {
        "id": "Bdc1O5aPnvaM",
        "outputId": "f21dc53e-b415-48e7-db21-ff70273aa450",
        "colab": {
          "base_uri": "https://localhost:8080/",
          "height": 1000
        }
      },
      "source": [
        "from tensorflow.keras.models import Sequential\n",
        "from tensorflow.keras.layers import Dense\n",
        "from tensorflow.keras.optimizers import Adam\n",
        "from sklearn.preprocessing import MinMaxScaler\n",
        "\n",
        "#XTrain = pd.read_csv('Xtrain.csv')\n",
        "#XTest = pd.read_csv('Xtest.csv')\n",
        "#YTrain = pd.read_csv('Ytrain.csv')\n",
        "#YTest = pd.read_csv('Ytest.csv')\n",
        "XTrain = dataTrainFilter\n",
        "XTest = dataTestFilter\n",
        "YTrainS = labelTrainFilter\n",
        "YTestS = labelTestFilter\n",
        "\n",
        "#Normalize the data\n",
        "scaler = MinMaxScaler()\n",
        "XTrainS=scaler.fit_transform(XTrain.values)\n",
        "XTestS=scaler.fit_transform(XTest.values)\n",
        "#YTrainS=scaler.fit_transform(YTrain.values)\n",
        "#YTestS=scaler.fit_transform(YTest.values)\n",
        "#\n",
        "#Not Normalize\n",
        "\"\"\"XTrainS=XTrain.values\n",
        "XTestS=XTest.values\n",
        "YTrainS=YTrain.values\n",
        "YTestS=YTest.values\"\"\"\n",
        "\n",
        "from tensorflow.keras.layers import Dropout\n",
        "model = Sequential()\n",
        "#Multiclass\n",
        "#model.add(Dense(250, input_shape=(dataTrainFilter.shape[1],), activation='relu'))\n",
        "#model.add(Dense(250, activation='relu'))\n",
        "#model.add(Dense(4, activation='softmax'))\n",
        "#model.compile(Adam(lr=0.001), loss='categorical_crossentropy', metrics=['accuracy'])\n",
        "#Binaryclass\n",
        "model.add(Dense(200, input_shape=(dataTrainFilter.shape[1],), activation='relu'))\n",
        "#model.add(Dense(200, activation='relu'))\n",
        "model.add(Dense(1, activation='sigmoid'))\n",
        "model.compile(Adam(lr=0.001), loss='binary_crossentropy', metrics=['accuracy'])\n",
        "#\n",
        "model.summary()\n",
        "#Multiclass\n",
        "#history=model.fit(XTrainS, YTrainS, validation_split=0.33, epochs=500)\n",
        "#Binaryclass\n",
        "history=model.fit(XTrainS, YTrainS.values[:,0], epochs=100)\n",
        "\n"
      ],
      "execution_count": null,
      "outputs": [
        {
          "output_type": "stream",
          "text": [
            "Model: \"sequential_30\"\n",
            "_________________________________________________________________\n",
            "Layer (type)                 Output Shape              Param #   \n",
            "=================================================================\n",
            "dense_80 (Dense)             (None, 200)               23400     \n",
            "_________________________________________________________________\n",
            "dense_81 (Dense)             (None, 1)                 201       \n",
            "=================================================================\n",
            "Total params: 23,601\n",
            "Trainable params: 23,601\n",
            "Non-trainable params: 0\n",
            "_________________________________________________________________\n",
            "Epoch 1/100\n",
            "59/59 [==============================] - 0s 2ms/step - loss: 0.3038 - accuracy: 0.8825\n",
            "Epoch 2/100\n",
            "59/59 [==============================] - 0s 3ms/step - loss: 0.2251 - accuracy: 0.9076\n",
            "Epoch 3/100\n",
            "59/59 [==============================] - 0s 3ms/step - loss: 0.2184 - accuracy: 0.9087\n",
            "Epoch 4/100\n",
            "59/59 [==============================] - 0s 3ms/step - loss: 0.2121 - accuracy: 0.9087\n",
            "Epoch 5/100\n",
            "59/59 [==============================] - 0s 2ms/step - loss: 0.2078 - accuracy: 0.9097\n",
            "Epoch 6/100\n",
            "59/59 [==============================] - 0s 3ms/step - loss: 0.2067 - accuracy: 0.9129\n",
            "Epoch 7/100\n",
            "59/59 [==============================] - 0s 3ms/step - loss: 0.2120 - accuracy: 0.9097\n",
            "Epoch 8/100\n",
            "59/59 [==============================] - 0s 2ms/step - loss: 0.2055 - accuracy: 0.9129\n",
            "Epoch 9/100\n",
            "59/59 [==============================] - 0s 3ms/step - loss: 0.2085 - accuracy: 0.9103\n",
            "Epoch 10/100\n",
            "59/59 [==============================] - 0s 3ms/step - loss: 0.2068 - accuracy: 0.9113\n",
            "Epoch 11/100\n",
            "59/59 [==============================] - 0s 3ms/step - loss: 0.2040 - accuracy: 0.9151\n",
            "Epoch 12/100\n",
            "59/59 [==============================] - 0s 3ms/step - loss: 0.2087 - accuracy: 0.9087\n",
            "Epoch 13/100\n",
            "59/59 [==============================] - 0s 3ms/step - loss: 0.2012 - accuracy: 0.9167\n",
            "Epoch 14/100\n",
            "59/59 [==============================] - 0s 3ms/step - loss: 0.1997 - accuracy: 0.9172\n",
            "Epoch 15/100\n",
            "59/59 [==============================] - 0s 3ms/step - loss: 0.1991 - accuracy: 0.9193\n",
            "Epoch 16/100\n",
            "59/59 [==============================] - 0s 3ms/step - loss: 0.2002 - accuracy: 0.9113\n",
            "Epoch 17/100\n",
            "59/59 [==============================] - 0s 3ms/step - loss: 0.1967 - accuracy: 0.9177\n",
            "Epoch 18/100\n",
            "59/59 [==============================] - 0s 3ms/step - loss: 0.1956 - accuracy: 0.9172\n",
            "Epoch 19/100\n",
            "59/59 [==============================] - 0s 3ms/step - loss: 0.1958 - accuracy: 0.9183\n",
            "Epoch 20/100\n",
            "59/59 [==============================] - 0s 3ms/step - loss: 0.1947 - accuracy: 0.9161\n",
            "Epoch 21/100\n",
            "59/59 [==============================] - 0s 3ms/step - loss: 0.1930 - accuracy: 0.9167\n",
            "Epoch 22/100\n",
            "59/59 [==============================] - 0s 3ms/step - loss: 0.1921 - accuracy: 0.9199\n",
            "Epoch 23/100\n",
            "59/59 [==============================] - 0s 2ms/step - loss: 0.1943 - accuracy: 0.9156\n",
            "Epoch 24/100\n",
            "59/59 [==============================] - 0s 3ms/step - loss: 0.1912 - accuracy: 0.9241\n",
            "Epoch 25/100\n",
            "59/59 [==============================] - 0s 2ms/step - loss: 0.1910 - accuracy: 0.9204\n",
            "Epoch 26/100\n",
            "59/59 [==============================] - 0s 2ms/step - loss: 0.1914 - accuracy: 0.9183\n",
            "Epoch 27/100\n",
            "59/59 [==============================] - 0s 3ms/step - loss: 0.1917 - accuracy: 0.9172\n",
            "Epoch 28/100\n",
            "59/59 [==============================] - 0s 3ms/step - loss: 0.1992 - accuracy: 0.9199\n",
            "Epoch 29/100\n",
            "59/59 [==============================] - 0s 2ms/step - loss: 0.1899 - accuracy: 0.9204\n",
            "Epoch 30/100\n",
            "59/59 [==============================] - 0s 3ms/step - loss: 0.1881 - accuracy: 0.9204\n",
            "Epoch 31/100\n",
            "59/59 [==============================] - 0s 3ms/step - loss: 0.1895 - accuracy: 0.9209\n",
            "Epoch 32/100\n",
            "59/59 [==============================] - 0s 3ms/step - loss: 0.1854 - accuracy: 0.9274\n",
            "Epoch 33/100\n",
            "59/59 [==============================] - 0s 3ms/step - loss: 0.1852 - accuracy: 0.9231\n",
            "Epoch 34/100\n",
            "59/59 [==============================] - 0s 2ms/step - loss: 0.1878 - accuracy: 0.9183\n",
            "Epoch 35/100\n",
            "59/59 [==============================] - 0s 3ms/step - loss: 0.1822 - accuracy: 0.9247\n",
            "Epoch 36/100\n",
            "59/59 [==============================] - 0s 3ms/step - loss: 0.1862 - accuracy: 0.9225\n",
            "Epoch 37/100\n",
            "59/59 [==============================] - 0s 3ms/step - loss: 0.1874 - accuracy: 0.9172\n",
            "Epoch 38/100\n",
            "59/59 [==============================] - 0s 3ms/step - loss: 0.1838 - accuracy: 0.9236\n",
            "Epoch 39/100\n",
            "59/59 [==============================] - 0s 3ms/step - loss: 0.1912 - accuracy: 0.9252\n",
            "Epoch 40/100\n",
            "59/59 [==============================] - 0s 2ms/step - loss: 0.1847 - accuracy: 0.9188\n",
            "Epoch 41/100\n",
            "59/59 [==============================] - 0s 2ms/step - loss: 0.1847 - accuracy: 0.9241\n",
            "Epoch 42/100\n",
            "59/59 [==============================] - 0s 2ms/step - loss: 0.1838 - accuracy: 0.9268\n",
            "Epoch 43/100\n",
            "59/59 [==============================] - 0s 3ms/step - loss: 0.1842 - accuracy: 0.9231\n",
            "Epoch 44/100\n",
            "59/59 [==============================] - 0s 3ms/step - loss: 0.1806 - accuracy: 0.9247\n",
            "Epoch 45/100\n",
            "59/59 [==============================] - 0s 3ms/step - loss: 0.1793 - accuracy: 0.9247\n",
            "Epoch 46/100\n",
            "59/59 [==============================] - 0s 3ms/step - loss: 0.1802 - accuracy: 0.9263\n",
            "Epoch 47/100\n",
            "59/59 [==============================] - 0s 3ms/step - loss: 0.1827 - accuracy: 0.9247\n",
            "Epoch 48/100\n",
            "59/59 [==============================] - 0s 3ms/step - loss: 0.1837 - accuracy: 0.9295\n",
            "Epoch 49/100\n",
            "59/59 [==============================] - 0s 3ms/step - loss: 0.1802 - accuracy: 0.9279\n",
            "Epoch 50/100\n",
            "59/59 [==============================] - 0s 3ms/step - loss: 0.1843 - accuracy: 0.9193\n",
            "Epoch 51/100\n",
            "59/59 [==============================] - 0s 3ms/step - loss: 0.1821 - accuracy: 0.9257\n",
            "Epoch 52/100\n",
            "59/59 [==============================] - 0s 3ms/step - loss: 0.1846 - accuracy: 0.9225\n",
            "Epoch 53/100\n",
            "59/59 [==============================] - 0s 3ms/step - loss: 0.1789 - accuracy: 0.9263\n",
            "Epoch 54/100\n",
            "59/59 [==============================] - 0s 3ms/step - loss: 0.1805 - accuracy: 0.9241\n",
            "Epoch 55/100\n",
            "59/59 [==============================] - 0s 3ms/step - loss: 0.1777 - accuracy: 0.9247\n",
            "Epoch 56/100\n",
            "59/59 [==============================] - 0s 3ms/step - loss: 0.1737 - accuracy: 0.9300\n",
            "Epoch 57/100\n",
            "59/59 [==============================] - 0s 2ms/step - loss: 0.1766 - accuracy: 0.9284\n",
            "Epoch 58/100\n",
            "59/59 [==============================] - 0s 3ms/step - loss: 0.1804 - accuracy: 0.9225\n",
            "Epoch 59/100\n",
            "59/59 [==============================] - 0s 3ms/step - loss: 0.1760 - accuracy: 0.9290\n",
            "Epoch 60/100\n",
            "59/59 [==============================] - 0s 3ms/step - loss: 0.1740 - accuracy: 0.9290\n",
            "Epoch 61/100\n",
            "59/59 [==============================] - 0s 3ms/step - loss: 0.1763 - accuracy: 0.9295\n",
            "Epoch 62/100\n",
            "59/59 [==============================] - 0s 3ms/step - loss: 0.1768 - accuracy: 0.9284\n",
            "Epoch 63/100\n",
            "59/59 [==============================] - 0s 3ms/step - loss: 0.1717 - accuracy: 0.9300\n",
            "Epoch 64/100\n",
            "59/59 [==============================] - 0s 3ms/step - loss: 0.1729 - accuracy: 0.9290\n",
            "Epoch 65/100\n",
            "59/59 [==============================] - 0s 2ms/step - loss: 0.1759 - accuracy: 0.9306\n",
            "Epoch 66/100\n",
            "59/59 [==============================] - 0s 2ms/step - loss: 0.1765 - accuracy: 0.9354\n",
            "Epoch 67/100\n",
            "59/59 [==============================] - 0s 2ms/step - loss: 0.1701 - accuracy: 0.9348\n",
            "Epoch 68/100\n",
            "59/59 [==============================] - 0s 3ms/step - loss: 0.1763 - accuracy: 0.9284\n",
            "Epoch 69/100\n",
            "59/59 [==============================] - 0s 2ms/step - loss: 0.1729 - accuracy: 0.9322\n",
            "Epoch 70/100\n",
            "59/59 [==============================] - 0s 3ms/step - loss: 0.1742 - accuracy: 0.9306\n",
            "Epoch 71/100\n",
            "59/59 [==============================] - 0s 3ms/step - loss: 0.1765 - accuracy: 0.9279\n",
            "Epoch 72/100\n",
            "59/59 [==============================] - 0s 2ms/step - loss: 0.1748 - accuracy: 0.9311\n",
            "Epoch 73/100\n",
            "59/59 [==============================] - 0s 3ms/step - loss: 0.1703 - accuracy: 0.9338\n",
            "Epoch 74/100\n",
            "59/59 [==============================] - 0s 2ms/step - loss: 0.1734 - accuracy: 0.9343\n",
            "Epoch 75/100\n",
            "59/59 [==============================] - 0s 2ms/step - loss: 0.1698 - accuracy: 0.9306\n",
            "Epoch 76/100\n",
            "59/59 [==============================] - 0s 3ms/step - loss: 0.1687 - accuracy: 0.9354\n",
            "Epoch 77/100\n",
            "59/59 [==============================] - 0s 2ms/step - loss: 0.1697 - accuracy: 0.9332\n",
            "Epoch 78/100\n",
            "59/59 [==============================] - 0s 2ms/step - loss: 0.1673 - accuracy: 0.9338\n",
            "Epoch 79/100\n",
            "59/59 [==============================] - 0s 2ms/step - loss: 0.1723 - accuracy: 0.9348\n",
            "Epoch 80/100\n",
            "59/59 [==============================] - 0s 3ms/step - loss: 0.1657 - accuracy: 0.9370\n",
            "Epoch 81/100\n",
            "59/59 [==============================] - 0s 2ms/step - loss: 0.1712 - accuracy: 0.9322\n",
            "Epoch 82/100\n",
            "59/59 [==============================] - 0s 3ms/step - loss: 0.1718 - accuracy: 0.9295\n",
            "Epoch 83/100\n",
            "59/59 [==============================] - 0s 3ms/step - loss: 0.1687 - accuracy: 0.9359\n",
            "Epoch 84/100\n",
            "59/59 [==============================] - 0s 3ms/step - loss: 0.1665 - accuracy: 0.9359\n",
            "Epoch 85/100\n",
            "59/59 [==============================] - 0s 2ms/step - loss: 0.1672 - accuracy: 0.9348\n",
            "Epoch 86/100\n",
            "59/59 [==============================] - 0s 3ms/step - loss: 0.1716 - accuracy: 0.9316\n",
            "Epoch 87/100\n",
            "59/59 [==============================] - 0s 3ms/step - loss: 0.1686 - accuracy: 0.9370\n",
            "Epoch 88/100\n",
            "59/59 [==============================] - 0s 3ms/step - loss: 0.1634 - accuracy: 0.9407\n",
            "Epoch 89/100\n",
            "59/59 [==============================] - 0s 2ms/step - loss: 0.1662 - accuracy: 0.9343\n",
            "Epoch 90/100\n",
            "59/59 [==============================] - 0s 3ms/step - loss: 0.1638 - accuracy: 0.9375\n",
            "Epoch 91/100\n",
            "59/59 [==============================] - 0s 3ms/step - loss: 0.1663 - accuracy: 0.9359\n",
            "Epoch 92/100\n",
            "59/59 [==============================] - 0s 3ms/step - loss: 0.1690 - accuracy: 0.9359\n",
            "Epoch 93/100\n",
            "59/59 [==============================] - 0s 3ms/step - loss: 0.1648 - accuracy: 0.9386\n",
            "Epoch 94/100\n",
            "59/59 [==============================] - 0s 3ms/step - loss: 0.1607 - accuracy: 0.9412\n",
            "Epoch 95/100\n",
            "59/59 [==============================] - 0s 3ms/step - loss: 0.1631 - accuracy: 0.9428\n",
            "Epoch 96/100\n",
            "59/59 [==============================] - 0s 3ms/step - loss: 0.1620 - accuracy: 0.9402\n",
            "Epoch 97/100\n",
            "59/59 [==============================] - 0s 3ms/step - loss: 0.1625 - accuracy: 0.9391\n",
            "Epoch 98/100\n",
            "59/59 [==============================] - 0s 3ms/step - loss: 0.1663 - accuracy: 0.9354\n",
            "Epoch 99/100\n",
            "59/59 [==============================] - 0s 2ms/step - loss: 0.1617 - accuracy: 0.9402\n",
            "Epoch 100/100\n",
            "59/59 [==============================] - 0s 2ms/step - loss: 0.1572 - accuracy: 0.9444\n"
          ],
          "name": "stdout"
        }
      ]
    },
    {
      "cell_type": "code",
      "metadata": {
        "id": "oBMTlMWTr7eV",
        "outputId": "c8494e2d-f627-46a6-a999-afc766405883",
        "colab": {
          "base_uri": "https://localhost:8080/",
          "height": 246
        }
      },
      "source": [
        "y_pred = model.predict(XTestS)\n",
        "#Multi-class\n",
        "#y_test_class = np.argmax(YTestS, axis=1)#\n",
        "#y_pred_class = np.argmax(y_pred, axis=1)#\n",
        "#Binary-class\n",
        "y_test_class = YTestS.values[:,0]#\n",
        "y_pred_class = np.round(y_pred[:,0])#\n",
        "print(y_test_class)\n",
        "print(y_pred_class)\n",
        "from sklearn.metrics import classification_report, confusion_matrix\n",
        "print(classification_report(y_test_class, y_pred_class))\n",
        "print(confusion_matrix(y_test_class,y_pred_class))"
      ],
      "execution_count": null,
      "outputs": [
        {
          "output_type": "stream",
          "text": [
            "[1 1 1 ... 0 1 0]\n",
            "[1. 1. 1. ... 0. 1. 0.]\n",
            "              precision    recall  f1-score   support\n",
            "\n",
            "           0       0.92      0.95      0.93      1123\n",
            "           1       0.92      0.86      0.89       719\n",
            "\n",
            "    accuracy                           0.92      1842\n",
            "   macro avg       0.92      0.91      0.91      1842\n",
            "weighted avg       0.92      0.92      0.92      1842\n",
            "\n",
            "[[1066   57]\n",
            " [  98  621]]\n"
          ],
          "name": "stdout"
        }
      ]
    },
    {
      "cell_type": "code",
      "metadata": {
        "id": "r6K2fvNxS1E6"
      },
      "source": [
        "model.save(\"modelBinary.h5\")"
      ],
      "execution_count": null,
      "outputs": []
    },
    {
      "cell_type": "markdown",
      "metadata": {
        "id": "x-MAfLjf2ucE"
      },
      "source": [
        "The confusion matrix was plotted using Dennis Trimarchi's code\n",
        "\n",
        "> https://github.com/DTrimarchi10/confusion_matrix\n",
        "\n"
      ]
    },
    {
      "cell_type": "code",
      "metadata": {
        "id": "SI8MDKlG_nN_",
        "outputId": "35d417de-a00d-46ee-ad49-47dadf36c3dc",
        "colab": {
          "base_uri": "https://localhost:8080/",
          "height": 121
        }
      },
      "source": [
        "!git clone https://github.com/DTrimarchi10/confusion_matrix.git"
      ],
      "execution_count": null,
      "outputs": [
        {
          "output_type": "stream",
          "text": [
            "Cloning into 'confusion_matrix'...\n",
            "remote: Enumerating objects: 15, done.\u001b[K\n",
            "remote: Counting objects: 100% (15/15), done.\u001b[K\n",
            "remote: Compressing objects: 100% (12/12), done.\u001b[K\n",
            "remote: Total 15 (delta 3), reused 15 (delta 3), pack-reused 0\u001b[K\n",
            "Unpacking objects: 100% (15/15), done.\n"
          ],
          "name": "stdout"
        }
      ]
    },
    {
      "cell_type": "code",
      "metadata": {
        "id": "hVYsBtNMAuUJ",
        "outputId": "f02ff2d4-6032-44f2-835d-a27e7db3e016",
        "colab": {
          "base_uri": "https://localhost:8080/",
          "height": 337
        }
      },
      "source": [
        "import confusion_matrix.cf_matrix as cm\n",
        "import matplotlib.pyplot as plt\n",
        "\n",
        "\n",
        "categories = [\"Pass\", \"Fail\"]\n",
        "X=cm.make_confusion_matrix(confusion_matrix(y_test_class,y_pred_class),\n",
        "                      categories=categories, \n",
        "                      cmap=\"Blues\")"
      ],
      "execution_count": null,
      "outputs": [
        {
          "output_type": "display_data",
          "data": {
            "image/png": "[encoded data removed]",
            "text/plain": [
              "<Figure size 432x288 with 2 Axes>"
            ]
          },
          "metadata": {
            "tags": [],
            "needs_background": "light"
          }
        }
      ]
    }
  ]
}